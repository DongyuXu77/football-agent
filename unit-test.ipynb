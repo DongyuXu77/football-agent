{
 "cells": [
  {
   "cell_type": "code",
   "execution_count": 1,
   "metadata": {},
   "outputs": [],
   "source": [
    "import os\n",
    "\n",
    "os.environ[\"OPENAI_API_KEY\"] = \"sk-proj-Cxs7KlVOqa9pAf1Ga0ejT3BlbkFJsYAPBYwYgSRTq5cop74O\""
   ]
  },
  {
   "cell_type": "code",
   "execution_count": 2,
   "metadata": {},
   "outputs": [
    {
     "name": "stdout",
     "output_type": "stream",
     "text": [
      "self.wrap_content : 当前的实时状态为:比赛开赛阶段\n",
      "教练组提供的战术内容是:教练组希望获得赛场上的球权\n",
      "请问达成该战术目标所需要完成的子目标是?\n"
     ]
    }
   ],
   "source": [
    "from agent.plan.planner import planner\n",
    "\n",
    "agent_1 = planner()\n",
    "agent_1.wrap_input_content(content=\"教练组希望获得赛场上的球权\", status=\"比赛开赛阶段\")\n",
    "\n",
    "output_1, output_2, output_3 = agent_1.get_respoense()"
   ]
  },
  {
   "cell_type": "code",
   "execution_count": 3,
   "metadata": {},
   "outputs": [
    {
     "name": "stdout",
     "output_type": "stream",
     "text": [
      "要达成教练组希望获得赛场上的球权的战术目标，需要完成以下子目标：\n",
      "\n",
      "1. 争夺开球权：首先要确保球队在比赛开始时争夺到开球权，这样就有机会控制比赛节奏。\n",
      "2. 高位逼抢：通过对对方球员的高位逼抢，加强对方传球线的阻截，尽可能让对方在传球中出现失误。\n",
      "3. 中场控制：在中场控制比赛的节奏，通过球员之间的配合和传球，稳固地控制比赛的节奏和球权。\n",
      "4. 快速反抢：失去球权后立即进行快速反抢，迅速重新夺回球权，避免对手发起进攻。\n",
      "5. 球员位置移动：要求球员不断调整位置，与对手保持适当距离，并且配合队友完成传接球，以确保控制比赛节奏。\n"
     ]
    }
   ],
   "source": [
    "print(output_2)"
   ]
  },
  {
   "cell_type": "code",
   "execution_count": 6,
   "metadata": {},
   "outputs": [],
   "source": [
    "from agent.control.controller import controller\n",
    "agent_2 = controller()\n",
    "agent_2.get_model_info()\n",
    "agent_2.wrap_input_content(content=\"争夺开球权：首先要确保球队在比赛开始时争夺到开球权，这样就有机会控制比赛节奏。\", status=\"比赛开赛阶段\")\n",
    "\n",
    "output_1, output_2, output_3 = agent_2.get_respoense()"
   ]
  },
  {
   "cell_type": "code",
   "execution_count": 7,
   "metadata": {},
   "outputs": [
    {
     "name": "stdout",
     "output_type": "stream",
     "text": [
      "为了争夺开球权，最重要的是要快速抢占控球权，因此在比赛开始阶段，我们需要调用进攻能力强的模型1，让球员利用射门的方式来争夺开球权，同时消耗一部分体力。这样有利于提前控制比赛节奏，以达成目标。\n"
     ]
    }
   ],
   "source": [
    "print(output_2)"
   ]
  }
 ],
 "metadata": {
  "kernelspec": {
   "display_name": "pytorch",
   "language": "python",
   "name": "python3"
  },
  "language_info": {
   "codemirror_mode": {
    "name": "ipython",
    "version": 3
   },
   "file_extension": ".py",
   "mimetype": "text/x-python",
   "name": "python",
   "nbconvert_exporter": "python",
   "pygments_lexer": "ipython3",
   "version": "3.9.13"
  }
 },
 "nbformat": 4,
 "nbformat_minor": 2
}
