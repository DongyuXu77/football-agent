{
 "cells": [
  {
   "cell_type": "code",
   "execution_count": 1,
   "metadata": {},
   "outputs": [],
   "source": [
    "import os\n"
   ]
  },
  {
   "cell_type": "code",
   "execution_count": 10,
   "metadata": {},
   "outputs": [
    {
     "name": "stdout",
     "output_type": "stream",
     "text": [
      "{'role': 'user', 'content': '当前的实时状态为:比赛开赛阶段\\n教练组提供的战术内容是:教练组希望获得赛场上的球权\\n请问达成该战术目标所需要完成的子目标是?'} {'role': 'assistant', 'content': '争夺开球权:首先要确保球队在比赛开始时争夺到开球权,这样就有机会控制比赛节奏\\n高位逼抢:通过对对方球员的高位逼抢,加强对方传球线的阻截,尽可能让对方在传球中出现失误\\n中场控制:在中场控制比赛的节奏,通过球员之间的配合和传球,稳固地控制比赛的节奏和球权\\n快速反抢:失去球权后立即进行快速反抢,迅速重新夺回球权,避免对手发起进攻\\n球员位置移动:要求球员不断调整位置,与对手保持适当距离,并且配合队友完成传接球,以确保控制比赛节奏'}\n"
     ]
    }
   ],
   "source": [
    "from agent.plan.planner import planner\n",
    "\n",
    "agent_1 = planner()\n",
    "agent_1.set_few_shot_prompt(json_file_path=\"agent/argument/few_shot_prompt/few_shot_prompt.json\")\n",
    "print(*agent_1.few_shot_prompt)\n",
    "agent_1.wrap_input_content(content=\"教练组希望在前期掌控场上情况\", status=\"比赛开赛阶段\")\n",
    "\n",
    "output_1, output_2, output_3 = agent_1.get_respoense()"
   ]
  },
  {
   "cell_type": "code",
   "execution_count": 12,
   "metadata": {},
   "outputs": [
    {
     "name": "stdout",
     "output_type": "stream",
     "text": [
      "摸清对手特点:在比赛开始阶段，需要球员和教练组员对对手球队的特点进行快速、全面的了解，包括对手的阵型、球员特点、优势和劣势等进行分析\n",
      "保持队形:球队在比赛开场阶段要保持良好的队形，避免因为过于激动而出现脱离位置的情况\n",
      "掌握节奏:在比赛开始阶段要通过控球和传球来掌握比赛的节奏，稳定球队情绪，避免过于急躁\n",
      "渐进式进攻:在前期掌控比赛情况时，球队可以采用逐渐推进的方式进行进攻，逐步压迫对手防线，制造射门机会\n",
      "快速反击:利用对手防线空隙和失误，进行快速反击，迅速威胁对手球门，打破对手的防线\n"
     ]
    }
   ],
   "source": [
    "print(output_2)"
   ]
  },
  {
   "cell_type": "code",
   "execution_count": 4,
   "metadata": {},
   "outputs": [],
   "source": [
    "from agent.control.controller import controller\n",
    "agent_2 = controller()\n",
    "agent_2.get_model_info()\n",
    "agent_2.wrap_input_content(content=\"争夺开球权：首先要确保球队在比赛开始时争夺到开球权，这样就有机会控制比赛节奏。\", status=\"比赛开赛阶段\", output_format=\"输出格式为X:Y，其中X是模型序号，Y为原因，例如‘1:为了争夺开球权，最重要的是要快速抢占控球权，因此在比赛开始阶段，我们需要调用进攻能力强的模型1，让球员利用射门的方式来争夺开球权，同时消耗一部分体力。这样有利于提前控制比赛节奏，以达成目标。’\")\n",
    "\n",
    "output_4, output_5, output_6 = agent_2.get_respoense()"
   ]
  },
  {
   "cell_type": "code",
   "execution_count": 8,
   "metadata": {},
   "outputs": [
    {
     "name": "stdout",
     "output_type": "stream",
     "text": [
      "1\n"
     ]
    }
   ],
   "source": [
    "print(int(output_2.split(\":\")[0]))"
   ]
  }
 ],
 "metadata": {
  "kernelspec": {
   "display_name": "pytorch",
   "language": "python",
   "name": "python3"
  },
  "language_info": {
   "codemirror_mode": {
    "name": "ipython",
    "version": 3
   },
   "file_extension": ".py",
   "mimetype": "text/x-python",
   "name": "python",
   "nbconvert_exporter": "python",
   "pygments_lexer": "ipython3",
   "version": "3.9.13"
  }
 },
 "nbformat": 4,
 "nbformat_minor": 2
}
