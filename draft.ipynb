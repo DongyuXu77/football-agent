{
 "cells": [
  {
   "cell_type": "code",
   "execution_count": 24,
   "metadata": {},
   "outputs": [],
   "source": [
    "import os\n",
    "import time\n",
    "\n",
    "import openai\n",
    "from openai import OpenAI\n",
    "\n",
    "os.environ[\"OPENAI_API_KEY\"] = \"sk-proj-Cxs7KlVOqa9pAf1Ga0ejT3BlbkFJsYAPBYwYgSRTq5cop74O\"\n",
    "os.environ[\"OPENAI_LOG\"] = \"debug\"\n",
    "#openai.api_key = 'sk-proj-Cxs7KlVOqa9pAf1Ga0ejT3BlbkFJsYAPBYwYgSRTq5cop74O'\n",
    "\n",
    "def get_api_response(content: str, content_system: str):\n",
    "    client = OpenAI(\n",
    "        api_key=os.environ.get(\"OPENAI_API_KEY\"),\n",
    "        timeout=30.0,\n",
    "        max_retries=3\n",
    "    )\n",
    "    response = client.chat.completions.create(\n",
    "        model='gpt-3.5-turbo',\n",
    "        messages=[\n",
    "            {'role': 'system', 'content': content_system},\n",
    "            {'role': 'user', 'content': content,}\n",
    "            ]\n",
    "    )\n",
    "    return response\n"
   ]
  },
  {
   "cell_type": "code",
   "execution_count": 25,
   "metadata": {},
   "outputs": [
    {
     "name": "stdout",
     "output_type": "stream",
     "text": [
      "ChatCompletion(id='chatcmpl-9JGrFIhEKpLEFcPqgb5LHyfx3BIJs', choices=[Choice(finish_reason='stop', index=0, logprobs=None, message=ChatCompletionMessage(content='您可以通过以下步骤利用 Python 和 OpenAI 库来创建一个 AI-Agent：\\n\\n1. 安装 OpenAI 库：首先需要在您的 Python 环境中安装 OpenAI 库。您可以使用 pip 进行安装，命令如下：\\n   ```\\n   pip install openai\\n   ```\\n\\n2. 获取 API 密钥：在 OpenAI 网站上注册账户并获取 API 密钥，以便可以与 OpenAI 的 API 进行通信。\\n\\n3. 编写代码：使用您的 API 密钥和 OpenAI 库，编写 Python 代码来调用 OpenAI 的 API，与 AI-Agent 进行交互。您可以使用 OpenAI 的 GPT 模型来生成文本，完成对话等任务。\\n\\n4. 调用 OpenAI API：通过在代码中调用 OpenAI 的 API 来获取 AI-Agent 的响应。您可以控制 AI-Agent 的行为和输出，根据您的需求来设置参数并处理返回的结果。\\n\\n以下是一个简单的例子，使用 OpenAI 的 GPT-3 模型进行文本生成：\\n\\n```python\\nimport openai\\n\\nopenai.api_key = \\'YOUR_API_KEY\\'\\n\\nresponse = openai.Completion.create(\\n  engine=\"text-davinci-003\",\\n  prompt=\"Once upon a time\",\\n  max_tokens=100\\n)\\n\\nprint(response.choices[0].text.strip())\\n```\\n\\n请注意，在实际应用中，您可能需要根据具体的需求和场景对代码进行定制和优化。希望这些信息对您有所帮助！', role='assistant', function_call=None, tool_calls=None))], created=1714380061, model='gpt-3.5-turbo-0125', object='chat.completion', system_fingerprint='fp_3b956da36b', usage=CompletionUsage(completion_tokens=382, prompt_tokens=55, total_tokens=437))\n"
     ]
    }
   ],
   "source": [
    "response = get_api_response(\"你好，请问如何利用Python openai 库创建一个AI-Agent\", \"您是一名计算机编程专家，需要对用户的问题分点进行精简的回答\")\n",
    "print(response)"
   ]
  },
  {
   "cell_type": "code",
   "execution_count": 26,
   "metadata": {},
   "outputs": [
    {
     "name": "stdout",
     "output_type": "stream",
     "text": [
      "您可以通过以下步骤利用 Python 和 OpenAI 库来创建一个 AI-Agent：\n",
      "\n",
      "1. 安装 OpenAI 库：首先需要在您的 Python 环境中安装 OpenAI 库。您可以使用 pip 进行安装，命令如下：\n",
      "   ```\n",
      "   pip install openai\n",
      "   ```\n",
      "\n",
      "2. 获取 API 密钥：在 OpenAI 网站上注册账户并获取 API 密钥，以便可以与 OpenAI 的 API 进行通信。\n",
      "\n",
      "3. 编写代码：使用您的 API 密钥和 OpenAI 库，编写 Python 代码来调用 OpenAI 的 API，与 AI-Agent 进行交互。您可以使用 OpenAI 的 GPT 模型来生成文本，完成对话等任务。\n",
      "\n",
      "4. 调用 OpenAI API：通过在代码中调用 OpenAI 的 API 来获取 AI-Agent 的响应。您可以控制 AI-Agent 的行为和输出，根据您的需求来设置参数并处理返回的结果。\n",
      "\n",
      "以下是一个简单的例子，使用 OpenAI 的 GPT-3 模型进行文本生成：\n",
      "\n",
      "```python\n",
      "import openai\n",
      "\n",
      "openai.api_key = 'YOUR_API_KEY'\n",
      "\n",
      "response = openai.Completion.create(\n",
      "  engine=\"text-davinci-003\",\n",
      "  prompt=\"Once upon a time\",\n",
      "  max_tokens=100\n",
      ")\n",
      "\n",
      "print(response.choices[0].text.strip())\n",
      "```\n",
      "\n",
      "请注意，在实际应用中，您可能需要根据具体的需求和场景对代码进行定制和优化。希望这些信息对您有所帮助！\n"
     ]
    }
   ],
   "source": [
    "response_text = response.choices[0].message.content\n",
    "\n",
    "print(response_text)"
   ]
  },
  {
   "cell_type": "code",
   "execution_count": 27,
   "metadata": {},
   "outputs": [
    {
     "name": "stdout",
     "output_type": "stream",
     "text": [
      "True\n",
      "['Config', '__abstractmethods__', '__annotations__', '__class__', '__class_vars__', '__config__', '__custom_root_type__', '__delattr__', '__dict__', '__dir__', '__doc__', '__eq__', '__exclude_fields__', '__fields__', '__fields_set__', '__format__', '__ge__', '__get_validators__', '__getattribute__', '__getstate__', '__gt__', '__hash__', '__include_fields__', '__init__', '__init_subclass__', '__iter__', '__json_encoder__', '__le__', '__lt__', '__module__', '__ne__', '__new__', '__post_root_validators__', '__pre_root_validators__', '__pretty__', '__private_attributes__', '__reduce__', '__reduce_ex__', '__repr__', '__repr_args__', '__repr_name__', '__repr_str__', '__rich_repr__', '__schema_cache__', '__setattr__', '__setstate__', '__signature__', '__sizeof__', '__slots__', '__str__', '__subclasshook__', '__try_update_forward_refs__', '__validators__', '_abc_impl', '_calculate_keys', '_copy_and_set_values', '_decompose_class', '_enforce_dict_if_root', '_get_value', '_init_private_attributes', '_iter', 'choices', 'construct', 'copy', 'created', 'dict', 'from_orm', 'id', 'json', 'model', 'model_construct', 'model_dump', 'model_dump_json', 'model_fields_set', 'object', 'parse_file', 'parse_obj', 'parse_raw', 'schema', 'schema_json', 'system_fingerprint', 'to_dict', 'to_json', 'update_forward_refs', 'usage', 'validate']\n"
     ]
    }
   ],
   "source": [
    "response_other = dir(response)\n",
    "print('choices' in response_other)\n",
    "print(response_other)"
   ]
  },
  {
   "cell_type": "code",
   "execution_count": 29,
   "metadata": {},
   "outputs": [
    {
     "name": "stdout",
     "output_type": "stream",
     "text": [
      "stop\n"
     ]
    }
   ],
   "source": [
    "response_id = response.choices[0].finish_reason\n",
    "print(response_id)"
   ]
  },
  {
   "cell_type": "code",
   "execution_count": 37,
   "metadata": {},
   "outputs": [
    {
     "name": "stdout",
     "output_type": "stream",
     "text": [
      "[4, 1, 2, 3]\n"
     ]
    }
   ],
   "source": [
    "list_1 = [1, 2, 3]\n",
    "hook_list = [4, 5, 6] if isinstance(1, list) else []\n",
    "list_2 = [4, *list_1, *hook_list]\n",
    "print(list_2)"
   ]
  },
  {
   "cell_type": "code",
   "execution_count": 38,
   "metadata": {},
   "outputs": [
    {
     "ename": "AssertionError",
     "evalue": " the _wrap_input_content function must be called before calling the get_respoense function",
     "output_type": "error",
     "traceback": [
      "\u001b[0;31m---------------------------------------------------------------------------\u001b[0m",
      "\u001b[0;31mAssertionError\u001b[0m                            Traceback (most recent call last)",
      "Cell \u001b[0;32mIn[38], line 2\u001b[0m\n\u001b[1;32m      1\u001b[0m a \u001b[38;5;241m=\u001b[39m \u001b[38;5;28;01mNone\u001b[39;00m\n\u001b[0;32m----> 2\u001b[0m \u001b[38;5;28;01massert\u001b[39;00m \u001b[38;5;28misinstance\u001b[39m(a, \u001b[38;5;28mlist\u001b[39m), \u001b[38;5;124m\"\u001b[39m\u001b[38;5;124m the _wrap_input_content function must be called before calling the get_respoense function\u001b[39m\u001b[38;5;124m\"\u001b[39m\n",
      "\u001b[0;31mAssertionError\u001b[0m:  the _wrap_input_content function must be called before calling the get_respoense function"
     ]
    }
   ],
   "source": [
    "a = None\n",
    "assert isinstance(a, list), \" the _wrap_input_content function must be called before calling the get_respoense function\""
   ]
  }
 ],
 "metadata": {
  "kernelspec": {
   "display_name": "pytorch",
   "language": "python",
   "name": "python3"
  },
  "language_info": {
   "codemirror_mode": {
    "name": "ipython",
    "version": 3
   },
   "file_extension": ".py",
   "mimetype": "text/x-python",
   "name": "python",
   "nbconvert_exporter": "python",
   "pygments_lexer": "ipython3",
   "version": "3.9.13"
  }
 },
 "nbformat": 4,
 "nbformat_minor": 2
}
